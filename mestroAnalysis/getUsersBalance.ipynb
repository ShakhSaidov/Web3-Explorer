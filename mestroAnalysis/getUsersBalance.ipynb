{
 "cells": [
  {
   "cell_type": "code",
   "execution_count": 35,
   "metadata": {},
   "outputs": [],
   "source": [
    "import pandas as pd\n",
    "\n",
    "mestro = \"0xcac0f1a06d3f02397cfb6d7077321d73b504916e\"\n",
    "\n",
    "mestroTransfers = pd.read_csv(\"mestro.csv\")\n",
    "mestroTransfers = mestroTransfers.drop_duplicates()\n",
    "#mestroTransfers"
   ]
  },
  {
   "cell_type": "code",
   "execution_count": 36,
   "metadata": {},
   "outputs": [
    {
     "data": {
      "text/plain": [
       "4106"
      ]
     },
     "execution_count": 36,
     "metadata": {},
     "output_type": "execute_result"
    }
   ],
   "source": [
    "users = []\n",
    "for index, row in mestroTransfers.iterrows():\n",
    "    #print(row[\"DateTime\"], row[\"From\"])\n",
    "    if(row[\"From\"] == \"0xcac0f1a06d3f02397cfb6d7077321d73b504916e\"):\n",
    "        users.append(row[\"DateTime\"])\n",
    "users = [*set(users)]\n",
    "len(users)"
   ]
  },
  {
   "cell_type": "code",
   "execution_count": 37,
   "metadata": {},
   "outputs": [],
   "source": [
    "import requests\n",
    "import json\n",
    "\n",
    "weiDivisible = 1000000000000000000\n",
    "\n",
    "\"\"\"\n",
    "for user in users:\n",
    "    url = f\"https://api.etherscan.io/api?module=account&action=balance&address={user}&tag=latest&apikey=7YRRHUFSDSM5BXCIM8FY3NPJ192WYKRC1G\"\n",
    "    response = requests.get(url)\n",
    "    jsonData = json.loads(response.text)\n",
    "    data = float(jsonData[\"result\"])\n",
    "    data = data / weiDivisible\n",
    "    \n",
    "\n",
    "    with open('usersBalance.csv', 'a') as fd:\n",
    "        fd.write(f\"{user}, {data}\\n\")\n",
    "\"\"\""
   ]
  }
 ],
 "metadata": {
  "kernelspec": {
   "display_name": "Python 3",
   "language": "python",
   "name": "python3"
  },
  "language_info": {
   "codemirror_mode": {
    "name": "ipython",
    "version": 3
   },
   "file_extension": ".py",
   "mimetype": "text/x-python",
   "name": "python",
   "nbconvert_exporter": "python",
   "pygments_lexer": "ipython3",
   "version": "3.10.7"
  },
  "orig_nbformat": 4,
  "vscode": {
   "interpreter": {
    "hash": "24a65622588fb1db624ed535020f5a37a759da9d209a329d177031dbba643a35"
   }
  }
 },
 "nbformat": 4,
 "nbformat_minor": 2
}

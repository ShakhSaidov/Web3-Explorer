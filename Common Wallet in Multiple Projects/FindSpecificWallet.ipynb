{
 "cells": [
  {
   "cell_type": "code",
   "execution_count": 1,
   "metadata": {},
   "outputs": [
    {
     "ename": "TypeError",
     "evalue": "dump() missing 1 required positional argument: 'fp'",
     "output_type": "error",
     "traceback": [
      "\u001b[1;31m---------------------------------------------------------------------------\u001b[0m",
      "\u001b[1;31mTypeError\u001b[0m                                 Traceback (most recent call last)",
      "Cell \u001b[1;32mIn [1], line 46\u001b[0m\n\u001b[0;32m     43\u001b[0m     results[wallet] \u001b[39m=\u001b[39m \u001b[39mlen\u001b[39m(data)\n\u001b[0;32m     45\u001b[0m \u001b[39mwith\u001b[39;00m \u001b[39mopen\u001b[39m(\u001b[39m'\u001b[39m\u001b[39mresults.json\u001b[39m\u001b[39m'\u001b[39m, \u001b[39m'\u001b[39m\u001b[39ma\u001b[39m\u001b[39m'\u001b[39m) \u001b[39mas\u001b[39;00m fd:\n\u001b[1;32m---> 46\u001b[0m     json\u001b[39m.\u001b[39mdump(results)\n",
      "\u001b[1;31mTypeError\u001b[0m: dump() missing 1 required positional argument: 'fp'"
     ]
    }
   ],
   "source": [
    "import requests\n",
    "import json\n",
    "import pandas as pd\n",
    "import time\n",
    "url = \"https://eth-mainnet.g.alchemy.com/v2/RFZwgvbVeEzxo2bZwX4sR6AG1p0TTaso\"\n",
    "\n",
    "\n",
    "df = pd.read_csv(\"THANOS.csv\")\n",
    "wallets = df.Wallet.tolist()\n",
    "\n",
    "results = {}\n",
    "\n",
    "for wallet in wallets:\n",
    "    payload = {\n",
    "        \"id\": 1,\n",
    "        \"jsonrpc\": \"2.0\",\n",
    "        \"method\": \"alchemy_getAssetTransfers\",\n",
    "        \"params\": [\n",
    "            {\n",
    "                \"fromBlock\": \"0x0\",\n",
    "                \"toBlock\": \"latest\",\n",
    "                \"contractAddresses\": [\"0xd43a305ee8506c1d5fbc20a53e270d08bc73f4b5\"],\n",
    "                \"category\": [\"erc20\"],\n",
    "                \"withMetadata\": False,\n",
    "                \"excludeZeroValue\": True,\n",
    "                \"maxCount\": \"0x3e8\",\n",
    "                \"toAddress\": wallet\n",
    "            }\n",
    "        ]\n",
    "    }\n",
    "    headers = {\n",
    "        \"accept\": \"application/json\",\n",
    "        \"content-type\": \"application/json\"\n",
    "    }\n",
    "\n",
    "    response = requests.post(url, json=payload, headers=headers)\n",
    "    response = response.text\n",
    "\n",
    "    responseJSON = json.loads(response)\n",
    "    data = responseJSON[\"result\"][\"transfers\"]\n",
    "    time.sleep(1)\n",
    "\n",
    "    results[wallet] = len(data)"
   ]
  },
  {
   "cell_type": "code",
   "execution_count": 4,
   "metadata": {},
   "outputs": [
    {
     "data": {
      "text/plain": [
       "['0xf72e5e86c92b3ab3ed6f386248da45793d61ae73',\n",
       " '0x3677d19cf7e25ec0e0ef7b895f9f7f1e7bc10dfd',\n",
       " '0xb40a2acdfa809ba0529ac015290d891e5d7d8402',\n",
       " '0xc72db5743d41e6e3d1c114a1a907b57e5d1d46af',\n",
       " '0xa8d2aaad631129d5d95a4c9b99f8d72accc8fc7a',\n",
       " '0x959bdd85321c0f2feca3f3b81c660bd4207f377c',\n",
       " '0x3189beb40053a0e0e42e19665eeac51d4a4501ca',\n",
       " '0xfa2970bd25409ba0aa941d106da1da68da26e4e8',\n",
       " '0x5b41c637d130dc4908c2ac3b59102c5e493a71e7',\n",
       " '0x2b98e38b5df1eb6682a7627c076d6c59e5bcc92a',\n",
       " '0x3cef481b13ecf1e80f601ff4009db7f96b9ffe69',\n",
       " '0x2c26e04395e84ba1faf0bbaa7c40a0e59c03f53b',\n",
       " '0x01b317e9778c47fba20e30db001f9d72abfa2a6f',\n",
       " '0x2cb4ac27dfa9ec2a75e6f269971a4f8f05cea37d',\n",
       " '0x0050471e7948417e55f1558374d4783608a7d100',\n",
       " '0xfddefe8d45e08515067b6f7cb24cb0434fd6546d',\n",
       " '0x9be8ec974b0930e7cefb5d82483c6ef3908ceb85']"
      ]
     },
     "execution_count": 4,
     "metadata": {},
     "output_type": "execute_result"
    }
   ],
   "source": [
    "thanosPossibleWallets = []\n",
    "for wallet in results:\n",
    "    if results[wallet] >= 3:\n",
    "        thanosPossibleWallets.append(wallet)\n",
    "\n",
    "thanosPossibleWallets"
   ]
  }
 ],
 "metadata": {
  "kernelspec": {
   "display_name": "Python 3",
   "language": "python",
   "name": "python3"
  },
  "language_info": {
   "codemirror_mode": {
    "name": "ipython",
    "version": 3
   },
   "file_extension": ".py",
   "mimetype": "text/x-python",
   "name": "python",
   "nbconvert_exporter": "python",
   "pygments_lexer": "ipython3",
   "version": "3.10.7"
  },
  "orig_nbformat": 4,
  "vscode": {
   "interpreter": {
    "hash": "24a65622588fb1db624ed535020f5a37a759da9d209a329d177031dbba643a35"
   }
  }
 },
 "nbformat": 4,
 "nbformat_minor": 2
}

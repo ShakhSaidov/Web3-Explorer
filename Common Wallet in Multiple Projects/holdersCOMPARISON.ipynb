{
 "cells": [
  {
   "cell_type": "code",
   "execution_count": 2,
   "metadata": {},
   "outputs": [
    {
     "data": {
      "text/html": [
       "<div>\n",
       "<style scoped>\n",
       "    .dataframe tbody tr th:only-of-type {\n",
       "        vertical-align: middle;\n",
       "    }\n",
       "\n",
       "    .dataframe tbody tr th {\n",
       "        vertical-align: top;\n",
       "    }\n",
       "\n",
       "    .dataframe thead th {\n",
       "        text-align: right;\n",
       "    }\n",
       "</style>\n",
       "<table border=\"1\" class=\"dataframe\">\n",
       "  <thead>\n",
       "    <tr style=\"text-align: right;\">\n",
       "      <th></th>\n",
       "      <th>HolderAddress</th>\n",
       "      <th>Balance_x</th>\n",
       "      <th>PendingBalanceUpdate_x</th>\n",
       "      <th>Balance_y</th>\n",
       "      <th>PendingBalanceUpdate_y</th>\n",
       "    </tr>\n",
       "  </thead>\n",
       "  <tbody>\n",
       "    <tr>\n",
       "      <th>0</th>\n",
       "      <td>0x000000000000000000000000000000000000dead</td>\n",
       "      <td>70562.020022</td>\n",
       "      <td>No</td>\n",
       "      <td>5.941932e+07</td>\n",
       "      <td>No</td>\n",
       "    </tr>\n",
       "    <tr>\n",
       "      <th>1</th>\n",
       "      <td>0x1903c15f4bcf41300716648d84b62b2d8405e699</td>\n",
       "      <td>187998.120954</td>\n",
       "      <td>No</td>\n",
       "      <td>4.425658e+06</td>\n",
       "      <td>No</td>\n",
       "    </tr>\n",
       "    <tr>\n",
       "      <th>2</th>\n",
       "      <td>0x9fff3be9e370545688a283babc09992216cd616f</td>\n",
       "      <td>4000.000000</td>\n",
       "      <td>No</td>\n",
       "      <td>6.662143e+06</td>\n",
       "      <td>No</td>\n",
       "    </tr>\n",
       "    <tr>\n",
       "      <th>3</th>\n",
       "      <td>0xf78bf184a264344c1eef0997b9547ef648b25fdb</td>\n",
       "      <td>197906.532311</td>\n",
       "      <td>No</td>\n",
       "      <td>1.125099e+07</td>\n",
       "      <td>No</td>\n",
       "    </tr>\n",
       "  </tbody>\n",
       "</table>\n",
       "</div>"
      ],
      "text/plain": [
       "                                HolderAddress      Balance_x  \\\n",
       "0  0x000000000000000000000000000000000000dead   70562.020022   \n",
       "1  0x1903c15f4bcf41300716648d84b62b2d8405e699  187998.120954   \n",
       "2  0x9fff3be9e370545688a283babc09992216cd616f    4000.000000   \n",
       "3  0xf78bf184a264344c1eef0997b9547ef648b25fdb  197906.532311   \n",
       "\n",
       "  PendingBalanceUpdate_x     Balance_y PendingBalanceUpdate_y  \n",
       "0                     No  5.941932e+07                     No  \n",
       "1                     No  4.425658e+06                     No  \n",
       "2                     No  6.662143e+06                     No  \n",
       "3                     No  1.125099e+07                     No  "
      ]
     },
     "execution_count": 2,
     "metadata": {},
     "output_type": "execute_result"
    }
   ],
   "source": [
    "import pandas as pd\n",
    "\n",
    "holders1 = pd.read_csv('holders1.csv')\n",
    "holders2 = pd.read_csv('holders2.csv')\n",
    "\n",
    "holders3 = pd.merge(holders1, holders2, on='HolderAddress', how='inner')\n",
    "holders3"
   ]
  }
 ],
 "metadata": {
  "kernelspec": {
   "display_name": "Python 3",
   "language": "python",
   "name": "python3"
  },
  "language_info": {
   "codemirror_mode": {
    "name": "ipython",
    "version": 3
   },
   "file_extension": ".py",
   "mimetype": "text/x-python",
   "name": "python",
   "nbconvert_exporter": "python",
   "pygments_lexer": "ipython3",
   "version": "3.10.7"
  },
  "orig_nbformat": 4,
  "vscode": {
   "interpreter": {
    "hash": "24a65622588fb1db624ed535020f5a37a759da9d209a329d177031dbba643a35"
   }
  }
 },
 "nbformat": 4,
 "nbformat_minor": 2
}

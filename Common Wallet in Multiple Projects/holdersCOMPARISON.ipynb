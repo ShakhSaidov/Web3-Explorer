{
 "cells": [
  {
   "cell_type": "code",
   "execution_count": 5,
   "metadata": {},
   "outputs": [
    {
     "data": {
      "text/html": [
       "<div>\n",
       "<style scoped>\n",
       "    .dataframe tbody tr th:only-of-type {\n",
       "        vertical-align: middle;\n",
       "    }\n",
       "\n",
       "    .dataframe tbody tr th {\n",
       "        vertical-align: top;\n",
       "    }\n",
       "\n",
       "    .dataframe thead th {\n",
       "        text-align: right;\n",
       "    }\n",
       "</style>\n",
       "<table border=\"1\" class=\"dataframe\">\n",
       "  <thead>\n",
       "    <tr style=\"text-align: right;\">\n",
       "      <th></th>\n",
       "      <th>HolderAddress</th>\n",
       "      <th>Balance</th>\n",
       "      <th>PendingBalanceUpdate</th>\n",
       "      <th>Unnamed: 0</th>\n",
       "      <th>counts</th>\n",
       "    </tr>\n",
       "  </thead>\n",
       "  <tbody>\n",
       "    <tr>\n",
       "      <th>0</th>\n",
       "      <td>0x0eaf80504b28c0c84957c2955cc2d86a63e3840e</td>\n",
       "      <td>8.081630e-01</td>\n",
       "      <td>No</td>\n",
       "      <td>2</td>\n",
       "      <td>2</td>\n",
       "    </tr>\n",
       "    <tr>\n",
       "      <th>1</th>\n",
       "      <td>0xd3247f1616a755fbbaafe6fb62af266edcab6e5a</td>\n",
       "      <td>1.000320e+06</td>\n",
       "      <td>No</td>\n",
       "      <td>22</td>\n",
       "      <td>4</td>\n",
       "    </tr>\n",
       "  </tbody>\n",
       "</table>\n",
       "</div>"
      ],
      "text/plain": [
       "                                HolderAddress       Balance  \\\n",
       "0  0x0eaf80504b28c0c84957c2955cc2d86a63e3840e  8.081630e-01   \n",
       "1  0xd3247f1616a755fbbaafe6fb62af266edcab6e5a  1.000320e+06   \n",
       "\n",
       "  PendingBalanceUpdate  Unnamed: 0  counts  \n",
       "0                   No           2       2  \n",
       "1                   No          22       4  "
      ]
     },
     "execution_count": 5,
     "metadata": {},
     "output_type": "execute_result"
    }
   ],
   "source": [
    "import pandas as pd\n",
    "\n",
    "holders1 = pd.read_csv('holders1.csv')\n",
    "holders2 = pd.read_csv('holders2.csv')\n",
    "\n",
    "holders3 = pd.merge(holders1, holders2, on='HolderAddress', how='inner')\n",
    "\n",
    "donkeyTest = pd.read_csv('donkeyTEST.csv')\n",
    "df = pd.merge(holders1, donkeyTest, on='HolderAddress', how='inner')\n",
    "df"
   ]
  }
 ],
 "metadata": {
  "kernelspec": {
   "display_name": "Python 3",
   "language": "python",
   "name": "python3"
  },
  "language_info": {
   "codemirror_mode": {
    "name": "ipython",
    "version": 3
   },
   "file_extension": ".py",
   "mimetype": "text/x-python",
   "name": "python",
   "nbconvert_exporter": "python",
   "pygments_lexer": "ipython3",
   "version": "3.10.7 (tags/v3.10.7:6cc6b13, Sep  5 2022, 14:08:36) [MSC v.1933 64 bit (AMD64)]"
  },
  "orig_nbformat": 4,
  "vscode": {
   "interpreter": {
    "hash": "24a65622588fb1db624ed535020f5a37a759da9d209a329d177031dbba643a35"
   }
  }
 },
 "nbformat": 4,
 "nbformat_minor": 2
}

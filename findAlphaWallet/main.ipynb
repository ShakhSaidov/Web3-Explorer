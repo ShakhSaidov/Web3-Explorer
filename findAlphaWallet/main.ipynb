{
 "cells": [
  {
   "cell_type": "code",
   "execution_count": 10,
   "metadata": {},
   "outputs": [],
   "source": [
    "import requests\n",
    "import json\n",
    "from csv import writer\n",
    "import pandas as pd\n",
    "\n",
    "#GLOBAL VARIABLES\n",
    "uniswapV2 = \"0x7a250d5630b4cf539739df2c5dacb4c659f2488d\"\n",
    "uniswapV3 = \"0x68b3465833fb72a70ecdf485e0e4c7bd8665fc45\"\n",
    "\n",
    "#CHANGE VARIABLES IN THE QUERY: PAIR AND TIMESTAMP\n",
    "query = \"\"\"\n",
    "        {\n",
    "            swaps(\n",
    "                where: {\n",
    "                    pair: \"0xc9c9c0c9a70355b0afb47571c37d6f7c5220e36d\",\n",
    "                    timestamp_gte: 1672348883,\n",
    "                    timestamp_lte: 1672349100\n",
    "                }\n",
    "                orderDirection: asc\n",
    "                orderBy: timestamp\n",
    "                first: 1000\n",
    "            ) {\n",
    "                sender\n",
    "                to\n",
    "            }\n",
    "        }\n",
    "    \"\"\"\n",
    "\n",
    "resp = requests.post('https://api.thegraph.com/subgraphs/name/uniswap/uniswap-v2',\n",
    "                        json={'query': query})\n",
    "\n",
    "json_data = json.loads(resp.text)\n",
    "json_data = json_data[\"data\"][\"swaps\"]\n",
    "\n",
    "for eachData in json_data:\n",
    "    if((eachData[\"sender\"] == uniswapV2 or eachData[\"sender\"] == uniswapV3) and (eachData[\"to\"] != uniswapV2 or eachData[\"to\"] != uniswapV3)):\n",
    "        wallet = eachData[\"to\"]\n",
    "        with open('wallets.csv', 'a') as fd:\n",
    "            fd.write(f\"{wallet}\\n\")"
   ]
  },
  {
   "cell_type": "code",
   "execution_count": null,
   "metadata": {},
   "outputs": [],
   "source": [
    "\"\"\"\n",
    "2. go through recent transactions only with to/from is the token contract\n",
    "3. find the x's made and match\n",
    "\"\"\"\n",
    "\n",
    "wallets = pd.read_csv(\"wallets.csv\")\n",
    "for wallet in wallets:\n",
    "    url = f\"https://api.etherscan.io/api?module=account&action=txlist&address={wallet}&startblock=0&endblock=99999999&sort=desc&apikey=7YRRHUFSDSM5BXCIM8FY3NPJ192WYKRC1G\"\n",
    "    response = requests.get(url)\n",
    "    jsonData = json.loads(response.text)\n",
    "    data = float(jsonData[\"result\"])\n",
    "    for element in data:\n",
    "        \n"
   ]
  }
 ],
 "metadata": {
  "kernelspec": {
   "display_name": "Python 3",
   "language": "python",
   "name": "python3"
  },
  "language_info": {
   "codemirror_mode": {
    "name": "ipython",
    "version": 3
   },
   "file_extension": ".py",
   "mimetype": "text/x-python",
   "name": "python",
   "nbconvert_exporter": "python",
   "pygments_lexer": "ipython3",
   "version": "3.10.7"
  },
  "orig_nbformat": 4,
  "vscode": {
   "interpreter": {
    "hash": "24a65622588fb1db624ed535020f5a37a759da9d209a329d177031dbba643a35"
   }
  }
 },
 "nbformat": 4,
 "nbformat_minor": 2
}

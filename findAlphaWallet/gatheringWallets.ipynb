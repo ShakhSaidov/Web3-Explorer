{
 "cells": [
  {
   "cell_type": "code",
   "execution_count": 1,
   "metadata": {},
   "outputs": [],
   "source": [
    "import requests\n",
    "import json\n",
    "from csv import writer\n",
    "import pandas as pd\n",
    "\n",
    "#GLOBAL VARIABLES\n",
    "uniswapV2 = \"0x7a250d5630b4cf539739df2c5dacb4c659f2488d\"\n",
    "uniswapV3 = \"0x68b3465833fb72a70ecdf485e0e4c7bd8665fc45\"\n",
    "\n",
    "#CHANGE VARIABLES IN THE QUERY: PAIR AND TIMESTAMP\n",
    "query = \"\"\"\n",
    "        {\n",
    "            swaps(\n",
    "                where: {\n",
    "                    pair: \"0x2f0995d64a7bcf168b58b732ed5a1ce957024028\",\n",
    "                    timestamp_lt: 1673219280\n",
    "                }\n",
    "                orderDirection: asc\n",
    "                orderBy: timestamp\n",
    "                first: 1000\n",
    "            ) {\n",
    "                sender\n",
    "                to\n",
    "            }\n",
    "        }\n",
    "    \"\"\"\n",
    "\n",
    "resp = requests.post('https://api.thegraph.com/subgraphs/name/uniswap/uniswap-v2',\n",
    "                        json={'query': query})\n",
    "\n",
    "json_data = json.loads(resp.text)\n",
    "json_data = json_data[\"data\"][\"swaps\"]\n",
    "\n",
    "for eachData in json_data:\n",
    "    if((eachData[\"sender\"] == uniswapV2 or eachData[\"sender\"] == uniswapV3) and (eachData[\"to\"] != uniswapV2 or eachData[\"to\"] != uniswapV3)):\n",
    "        wallet = eachData[\"to\"]\n",
    "        with open('wallets2.csv', 'a') as fd:\n",
    "            fd.write(f\"{wallet}\\n\")"
   ]
  }
 ],
 "metadata": {
  "kernelspec": {
   "display_name": "Python 3",
   "language": "python",
   "name": "python3"
  },
  "language_info": {
   "codemirror_mode": {
    "name": "ipython",
    "version": 3
   },
   "file_extension": ".py",
   "mimetype": "text/x-python",
   "name": "python",
   "nbconvert_exporter": "python",
   "pygments_lexer": "ipython3",
   "version": "3.10.7 (tags/v3.10.7:6cc6b13, Sep  5 2022, 14:08:36) [MSC v.1933 64 bit (AMD64)]"
  },
  "orig_nbformat": 4,
  "vscode": {
   "interpreter": {
    "hash": "24a65622588fb1db624ed535020f5a37a759da9d209a329d177031dbba643a35"
   }
  }
 },
 "nbformat": 4,
 "nbformat_minor": 2
}

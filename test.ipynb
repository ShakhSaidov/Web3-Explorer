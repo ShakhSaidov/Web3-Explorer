{
 "cells": [
  {
   "cell_type": "code",
   "execution_count": 10,
   "metadata": {},
   "outputs": [
    {
     "data": {
      "text/plain": [
       "2382    0xeb9110b8a0236e440a90531c2b3465c33fca6c3cc9ba2b0697405cbae6979859\n",
       "2384    0xe175123cf89c443fb2d92f3fd714ced3ba05c48758069b0f6ec1bcf7b833f9b7\n",
       "2386    0x3066c292df7b809bea560b39ebd7a56a49370d5cccfc960ebcc43cc22cac814e\n",
       "2388    0x660c5ecf7a20f2e6bb3bb2629683ae712bb815589ced629d5944ac7cb12543a6\n",
       "2390    0x2d25c2f8fac30935e900cff18716fdfb4612d26582884035e8ff6a652266825a\n",
       "2392    0xf3c988ccc130090c3c866b1e69dc7778c78e798bca8c260fe2ad20df287ff9b3\n",
       "2394    0x64d191fcecd5aea92e5f48af4d649fcd19371294d890123ff3c15ed48be9e73e\n",
       "2396    0xfb51812b7cb9378ba130eb8dabe49f2832eb5ef29ed5e05db8a388404212a9f2\n",
       "2398    0x6f0a29c2b908f1210fbdeebdcc32180ee1c27e4cab2f6438aed23911debe6ae4\n",
       "2400    0x7c4d93030724f7878cdf58a85c7e52cc7bd176c611d8333b501cdf2787d80079\n",
       "2487    0xd5f6d0e91e1d24c578ebeffff52b379412173ce532c0ecbbde21dc60260069d5\n",
       "2490    0x05d24da5750327a21a5171287b535bbcf9339769357494ea0495ee262469815e\n",
       "2492    0x80ad35f340e175a7062864d28f19eec1cf2c202bf1767fef3f00089c2d389a87\n",
       "2494    0x915afca8e9fc233583ac6d4aa52d8f95e1b58f2cb26deb2149f320918234bc17\n",
       "2496    0x9ebf0c130976fc5ab7c8987adf87986b1de2f2e789fbc9cb6062a79097e8d545\n",
       "2498    0xea867e012b914ec46114f93da98bb1392366ef21decf3a15f44987d9e43f43f0\n",
       "2500    0xf7de4e2b76a538aa6c34212a666a471a9f647ac9cf689f3dba9a37ff4fbddeb3\n",
       "2502    0xa8d69ef0538e8c5a531167f42297fb4e4d49a668a7f28687c09257e90ba8ea7d\n",
       "2504    0xd18ff7ad890bb472f1b5a6fab85eb4c13ec3ed3862fbbeda5a010fd1cf040348\n",
       "2506    0x1df0093ad580e8ed5cfad93537d71447c96197007f8de00c5753ee2b65c784b4\n",
       "2508    0xf43ca35fdc6c329bd6deea0e9a94f48ced89bc2a6c9a250dddb657b2b127bcd1\n",
       "2510    0x257613f30afc8ce0216f0ca181e64bf338af76a8a72a0232793b63399e1ee592\n",
       "2512    0x9d9dbd8530eb6393ce29796776157d709d2ab03479233cf4929e7a6572342236\n",
       "2514    0x3aebe112956204c90f02f77fb81c94dcadc5138c86fe22b61163f4757a9f73e8\n",
       "2516    0xffd1b2ea9cd6ba2222638728f0bb135fd105996b1d1abe10836efb26cacb7eff\n",
       "2683    0xbc9d9e1e95b8a548878def5c46f61d7d4c1c56f1c6edc565de0d5d19c2077ba5\n",
       "2685    0x7baea35678290f39e42cffb3921bddcf225dafbd8377b06407cf8d5bc6726bdb\n",
       "2687    0xf2274990cd0e1a11a5a263f1b1d442651d7432e5d5c33765212960c3baabee35\n",
       "2689    0x0ef44031d82f8be8c5e32765a442d25101f5cc0487bb58ccc0da70fbac374b86\n",
       "2691    0x2e14f87d901d77afa582edb13a76b933936e2ec8c962c39c4fc4e396d01bd7bd\n",
       "2694    0x017a13f95576f89ae7b0f43e16267e86bb688033322c2b448d38299ce21c94bd\n",
       "2696    0xf0e4f70f8262f466fa3682f81022179bc1a14e9cf5330610b8094cef474f37b6\n",
       "2698    0xf7b6f915f4587176a163a860bdfc71c592e9e998987c28a4811c614a1f7149ef\n",
       "2700    0xbe410781260117df8d76c8fc2c161b495b8fbb8c89e04a1a3a6911d4e31ab942\n",
       "2702    0xd0482e5bf33cce5b161ac5b468236444968a5b073accf004ae96a167d0ec8dcf\n",
       "2704    0xf17e4dd038072e8c62d6c25497053abe2688f37a9486ddd97cb9e63d45b383a7\n",
       "2706    0x7799996901f3f3659d1571bc1cc1b9f9dc561e8ef6ae4710975500ea7056843f\n",
       "2708    0x89390872684057657a2288aef33c8e6cfaf587a34ff05c84bd08a338e4db44fa\n",
       "2822    0x5ef167ee1e370f6ae9cf2ee29485cbc3167687380b3819557ff2287a5dd9eb94\n",
       "2824    0x16ea09f169c9d3964447bd91f8620b3f2329be18269db96ab19e27a80f37ac08\n",
       "2827    0xfded8ed9a1da9d25864561c8dc906db3019eaa3528add3b9e80555a878b98044\n",
       "2829    0xce874f88ab8b4f78959fb60e9b521de579b4d35c8ecfe306e270cdcfdafa6de1\n",
       "2831    0x1814f6f1d9453f157740ef46eb44b85579f3c4cbc7177d4aa81f95dfea33efc8\n",
       "2833    0x4c815e3e7cb0c7c5d40c23a1b708e0d3d08a11700dfc82b85d60a6e772a34077\n",
       "2835    0x1c829f22d9dffad531c0b4c237a6407dd42b9cfe0897bd4a5da0d729c3f48cea\n",
       "2837    0x7629fb7ce08770ab8f7dd398e0bb9a4a733b8484a2681c94edff32e0c185c446\n",
       "2839    0x96a73720914b7d747a35f67eb881f3ca611c8474cad41c170fd1489da0f6b9a7\n",
       "2841    0x146b50af3bf051a9d350ffab9b06711a7091e4989b1f6f439713dda9497cf3a7\n",
       "2843    0x0bdc626203230f6667b972148d849fb1e318395cc2a26d6e02295e50cd1cce9c\n",
       "2845    0x760dc586632fdd50411ad7617d7f56fdcf25319ddbaf2243314e0e97b341ec74\n",
       "Name: Txhash, dtype: object"
      ]
     },
     "execution_count": 10,
     "metadata": {},
     "output_type": "execute_result"
    }
   ],
   "source": [
    "import pandas as pd\n",
    "pd.set_option('display.max_colwidth', None)\n",
    "\n",
    "test = pd.read_csv(\"test.csv\")\n",
    "\n",
    "\n",
    "c1 = (test['UnixTimestamp'] > 1672806420) & (test['UnixTimestamp'] < 1672806500)\n",
    "c2 = (test['UnixTimestamp'] > 1672806840) & (test['UnixTimestamp'] < 1672806960) \n",
    "c3 = (test['UnixTimestamp'] > 1672807920) & (test['UnixTimestamp'] < 1672808040)\n",
    "c4 = (test['UnixTimestamp'] > 1672809240) & (test['UnixTimestamp'] < 1672809540)\n",
    "\n",
    "transactions = test.loc[c1 | c2 | c3 | c4, 'Txhash']\n",
    "transactions = transactions.drop_duplicates()\n",
    "transactions"
   ]
  }
 ],
 "metadata": {
  "kernelspec": {
   "display_name": "Python 3",
   "language": "python",
   "name": "python3"
  },
  "language_info": {
   "codemirror_mode": {
    "name": "ipython",
    "version": 3
   },
   "file_extension": ".py",
   "mimetype": "text/x-python",
   "name": "python",
   "nbconvert_exporter": "python",
   "pygments_lexer": "ipython3",
   "version": "3.10.7 (tags/v3.10.7:6cc6b13, Sep  5 2022, 14:08:36) [MSC v.1933 64 bit (AMD64)]"
  },
  "orig_nbformat": 4,
  "vscode": {
   "interpreter": {
    "hash": "24a65622588fb1db624ed535020f5a37a759da9d209a329d177031dbba643a35"
   }
  }
 },
 "nbformat": 4,
 "nbformat_minor": 2
}

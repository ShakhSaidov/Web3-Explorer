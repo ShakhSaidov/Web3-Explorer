{
 "cells": [
  {
   "cell_type": "code",
   "execution_count": null,
   "metadata": {},
   "outputs": [],
   "source": [
    "import pandas as pd\n",
    "pd.options.display.float_format = '{:.5f}'.format\n",
    "\n",
    "df = pd.read_csv(\"result.csv\")\n",
    "\n",
    "df.sort_values('TotalBalance', ascending=False)"
   ]
  },
  {
   "cell_type": "code",
   "execution_count": null,
   "metadata": {},
   "outputs": [],
   "source": [
    "shares = df.groupby(by=\"Label\")[\"share\"].sum()\n",
    "#df3\n",
    "freshShare = shares['share']['Fresh']\n",
    "goodShare = shares['share']['Good']\n",
    "aightShare = shares['share']['Aight']\n",
    "JettShare = shares['share']['Jett']\n",
    "\n",
    "megaRich = df[df['TotalBalance'] > 100000] \n",
    "rich = df[df['TotalBalance'] <= 100000 and df['TotalBalance'] > 50000] \n",
    "comfy = df[df['TotalBalance'] <= 50000 and df['TotalBalance'] > 10000] \n",
    "decent = df[df['TotalBalance'] <= 10000 and df['TotalBalance'] > 1000] \n",
    "regular = df[df['TotalBalance'] <= 1000] \n",
    "\n",
    "#megaRichShare = megaRich['share'].sum()\n",
    "megaRich\n"
   ]
  }
 ],
 "metadata": {
  "kernelspec": {
   "display_name": "Python 3",
   "language": "python",
   "name": "python3"
  },
  "language_info": {
   "name": "python",
   "version": "3.10.7 (tags/v3.10.7:6cc6b13, Sep  5 2022, 14:08:36) [MSC v.1933 64 bit (AMD64)]"
  },
  "orig_nbformat": 4,
  "vscode": {
   "interpreter": {
    "hash": "24a65622588fb1db624ed535020f5a37a759da9d209a329d177031dbba643a35"
   }
  }
 },
 "nbformat": 4,
 "nbformat_minor": 2
}

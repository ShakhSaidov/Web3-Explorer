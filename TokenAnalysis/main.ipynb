{
 "cells": [
  {
   "cell_type": "code",
   "execution_count": 1,
   "metadata": {},
   "outputs": [],
   "source": [
    "\"\"\"\n",
    "1. Paste token contract\n",
    "2. Look at top 100 holders\n",
    "    - holders balance\n",
    "        -> 100k+\n",
    "        -> 50 - 100k\n",
    "        -> 10 - 50k\n",
    "        -> 1 - 10k\n",
    "        -> 0 - 1k \n",
    "    \n",
    "    - holders transaction numbers\n",
    "        fresh wallet - less than 10 transactions\n",
    "        good wallets - in between\n",
    "        jeet - more than ____ transactions\n",
    "\n",
    "    - supply distribution between such holders and contracts\n",
    "\n",
    "    ignore 0x000000000000000000000000000000000000dead address\n",
    "\n",
    "3. \n",
    "        \n",
    "\n",
    "\"\"\"\n",
    "\n",
    "import requests\n",
    "import pandas as pd\n",
    "import json\n",
    "import helper\n",
    "\n",
    "pd.set_option('display.max_rows', None)\n",
    "\n",
    "weiDivisible = 1000000000000000000.0\n",
    "tokenContract = \"0xc15ecfe8e11c6a1d8b51bd29e6866fea005bf943\"\n",
    "url = f\"https://api.ethplorer.io/getTopTokenHolders/{tokenContract}?apiKey=freekey&limit=100\"\n",
    "\n",
    "response = requests.get(url)\n",
    "response = response.json()\n",
    "response = response['holders']\n",
    "#data = json.loads(response)\n",
    "\n",
    "df = pd.DataFrame.from_dict(response)"
   ]
  },
  {
   "cell_type": "code",
   "execution_count": 2,
   "metadata": {},
   "outputs": [],
   "source": [
    "addresses = df['address']\n",
    "isContract = []\n",
    "for address in addresses:\n",
    "    if(helper.isContract(address)):\n",
    "        isContract.append(True)\n",
    "    else: \n",
    "        isContract.append(False)\n",
    "    \n",
    "df[\"isContract\"] = isContract\n",
    "df2 = df[df[\"isContract\"] == False]"
   ]
  },
  {
   "cell_type": "code",
   "execution_count": 3,
   "metadata": {},
   "outputs": [
    {
     "name": "stderr",
     "output_type": "stream",
     "text": [
      "C:\\Users\\wwwbl\\AppData\\Local\\Temp\\ipykernel_1260\\1123332923.py:20: SettingWithCopyWarning: \n",
      "A value is trying to be set on a copy of a slice from a DataFrame.\n",
      "Try using .loc[row_indexer,col_indexer] = value instead\n",
      "\n",
      "See the caveats in the documentation: https://pandas.pydata.org/pandas-docs/stable/user_guide/indexing.html#returning-a-view-versus-a-copy\n",
      "  df2[\"EthBalance\"] = ethBalances\n",
      "C:\\Users\\wwwbl\\AppData\\Local\\Temp\\ipykernel_1260\\1123332923.py:21: SettingWithCopyWarning: \n",
      "A value is trying to be set on a copy of a slice from a DataFrame.\n",
      "Try using .loc[row_indexer,col_indexer] = value instead\n",
      "\n",
      "See the caveats in the documentation: https://pandas.pydata.org/pandas-docs/stable/user_guide/indexing.html#returning-a-view-versus-a-copy\n",
      "  df2[\"TokenBalance\"] = tokenBalances\n",
      "C:\\Users\\wwwbl\\AppData\\Local\\Temp\\ipykernel_1260\\1123332923.py:22: SettingWithCopyWarning: \n",
      "A value is trying to be set on a copy of a slice from a DataFrame.\n",
      "Try using .loc[row_indexer,col_indexer] = value instead\n",
      "\n",
      "See the caveats in the documentation: https://pandas.pydata.org/pandas-docs/stable/user_guide/indexing.html#returning-a-view-versus-a-copy\n",
      "  df2[\"TotalBalance\"] = df2[\"EthBalance\"] + df2[\"TokenBalance\"]\n"
     ]
    }
   ],
   "source": [
    "addresses = df2[\"address\"]\n",
    "ethBalances = []\n",
    "tokenBalances = []\n",
    "for address in addresses:\n",
    "    url = f\"https://api.ethplorer.io/getAddressInfo/{address}?apiKey=EK-jCkqf-qQHnUdG-uyNuL\"\n",
    "\n",
    "    response = requests.get(url)\n",
    "    response = response.json()\n",
    "    \n",
    "    ethBalance = response['ETH']['balance'] * response['ETH']['price']['rate']\n",
    "    tokenBalance = helper.getTokenBalance(address)\n",
    "\n",
    "    ethBalances.append(ethBalance)\n",
    "    tokenBalances.append(tokenBalance)\n",
    "\n",
    "df.loc[:,'EthBalance'] = ethBalances\n",
    "df.loc[:,'TokenBalance'] = tokenBalances\n",
    "df.loc[:,'TotalBalance'] = df2[\"EthBalance\"] + df2[\"TokenBalance\"]"
   ]
  },
  {
   "cell_type": "code",
   "execution_count": 4,
   "metadata": {},
   "outputs": [],
   "source": [
    "#   RESEARCH FINDINGS\n",
    "# Fresh: Total Transaction <= 10 \n",
    "# Good:  Daily Transaction <= 5 (Inactive wallets also 'Good')\n",
    "# Aight: Daily Transaction 5 < x <= 10\n",
    "# Jett:   Daily Transaction > 10\n",
    "\n",
    "wallets = df2[\"address\"]\n",
    "walletLabel = []\n",
    "\n",
    "for wallet in wallets:\n",
    "    url=f\"https://api.etherscan.io/api?module=account&action=tokentx&address={wallet}&page=1&offset=100&startblock=0&endblock=99999999&sort=desc&apikey=7YRRHUFSDSM5BXCIM8FY3NPJ192WYKRC1G\"\n",
    "\n",
    "    resp=requests.get(url)\n",
    "    resp=resp.json()\n",
    "    resp=resp['result']\n",
    "\n",
    "    if len(resp) < 10: \n",
    "        walletLabel.append(\"Fresh\")\n",
    "        continue\n",
    "\n",
    "    yesterdayTime = int(resp[0]['timeStamp']) - 86400\n",
    "    walletTransfers = []\n",
    "    for transfer in resp:\n",
    "        if int(transfer['timeStamp']) >= yesterdayTime: walletTransfers.append(transfer['timeStamp'])\n",
    "\n",
    "    walletTransfers = [*set(walletTransfers)]\n",
    "    dailyTransfer = len(walletTransfers)\n",
    "\n",
    "    if dailyTransfer <= 5: walletLabel.append(\"Good\")\n",
    "    elif dailyTransfer > 5 and dailyTransfer <= 10: walletLabel.append(\"Aight\")\n",
    "    if dailyTransfer > 10: walletLabel.append(\"Jett\")\n",
    "\n",
    "df.loc[:,'Label'] = walletLabel"
   ]
  },
  {
   "cell_type": "code",
   "execution_count": null,
   "metadata": {},
   "outputs": [],
   "source": [
    "df.to_csv(\"result.csv\")"
   ]
  }
 ],
 "metadata": {
  "kernelspec": {
   "display_name": "Python 3",
   "language": "python",
   "name": "python3"
  },
  "language_info": {
   "codemirror_mode": {
    "name": "ipython",
    "version": 3
   },
   "file_extension": ".py",
   "mimetype": "text/x-python",
   "name": "python",
   "nbconvert_exporter": "python",
   "pygments_lexer": "ipython3",
   "version": "3.10.7"
  },
  "orig_nbformat": 4,
  "vscode": {
   "interpreter": {
    "hash": "24a65622588fb1db624ed535020f5a37a759da9d209a329d177031dbba643a35"
   }
  }
 },
 "nbformat": 4,
 "nbformat_minor": 2
}

{
 "cells": [
  {
   "cell_type": "code",
   "execution_count": 3,
   "metadata": {},
   "outputs": [],
   "source": [
    "import requests\n",
    "import pandas as pd\n",
    "import json\n",
    "import helper\n",
    "\n",
    "pd.set_option('display.max_rows', None)\n",
    "\n",
    "weiDivisible = 1000000000000000000.0\n",
    "#tokenContract = \"0x7ef8bc95c59e83ab0c831260b5bff848d8770ccc\" #karat\n",
    "#tokenContract = \"0xc39a048353842caf1b94ce5967a04149bb435b98\" #news\n",
    "#tokenContract = \"0x9053bfb430a021bbd9958fa1d663063e4abe17ee\" #tosa\n",
    "#tokenContract = \"0x92a8771c925ec0812325546075be51e76d2f7123\" #bbtt\n",
    "#tokenContract = \"0x323efd000a71f2567534e66ec6ae1b2b789a623a\" #shinar\n",
    "#tokenContract = \"0x48a5c9d6497e0339e5fa385ec119f46d16995a97\" #doga\n",
    "#tokenContract = \"0xe6a5ff51c8d8acb7c98d15b7c605d9b5f408f01c\" #btcf\n",
    "#tokenContract = \"0x9f826324bb9bdcf7e7eb274bedc417bd45d74f39\" #milkai\n",
    "#tokenContract = \"0xde6f64d799194d5241a355ff57249c5299945250\" #degenai\n",
    "tokenContract = \"0x1b3f27eb85bb1196f2b803e363d27e589ca6d3ba\" #gigachad\n",
    "\n",
    "\n",
    "\n",
    "url = f\"https://api.ethplorer.io/getTopTokenHolders/{tokenContract}?apiKey=freekey&limit=50\"\n",
    "\n",
    "response = requests.get(url)\n",
    "response = response.json()\n",
    "response = response['holders']\n",
    "#data = json.loads(response)\n",
    "\n",
    "df = pd.DataFrame.from_dict(response)"
   ]
  },
  {
   "cell_type": "markdown",
   "metadata": {},
   "source": []
  },
  {
   "cell_type": "code",
   "execution_count": 4,
   "metadata": {},
   "outputs": [],
   "source": [
    "addresses = df['address']\n",
    "isContract = []\n",
    "for address in addresses:\n",
    "    if(helper.isContract(address) or address == \"0x000000000000000000000000000000000000dead\"):\n",
    "        isContract.append(True)\n",
    "    else: \n",
    "        isContract.append(False)\n",
    "    \n",
    "df[\"isContract\"] = isContract\n",
    "df2 = df[df[\"isContract\"] == False]\n",
    "df = df[df[\"isContract\"] == True]\n",
    "df.to_csv(\"result_contracts.csv\")"
   ]
  },
  {
   "cell_type": "code",
   "execution_count": 5,
   "metadata": {},
   "outputs": [],
   "source": [
    "addresses = df2[\"address\"]\n",
    "ethBalances = []\n",
    "tokenBalances = []\n",
    "for address in addresses:\n",
    "    url = f\"https://api.ethplorer.io/getAddressInfo/{address}?apiKey=EK-jCkqf-qQHnUdG-uyNuL\"\n",
    "\n",
    "    response = requests.get(url)\n",
    "    response = response.json()\n",
    "\n",
    "    ethBalance = response['ETH']['balance'] * response['ETH']['price']['rate']\n",
    "    tokenBalance = helper.getTokenBalance(address)\n",
    "\n",
    "    ethBalances.append(ethBalance)\n",
    "    tokenBalances.append(tokenBalance)"
   ]
  },
  {
   "cell_type": "code",
   "execution_count": 6,
   "metadata": {},
   "outputs": [],
   "source": [
    "df2['EthBalance'] = ethBalances\n",
    "df2['TokenBalance'] = tokenBalances\n",
    "df2[\"EthBalance\"] = pd.to_numeric(df2[\"EthBalance\"])\n",
    "df2[\"TokenBalance\"] = pd.to_numeric(df2[\"TokenBalance\"])\n",
    "df2['TotalBalance'] = df2[\"EthBalance\"] + df2[\"TokenBalance\"]"
   ]
  },
  {
   "cell_type": "code",
   "execution_count": 7,
   "metadata": {},
   "outputs": [],
   "source": [
    "#   RESEARCH FINDINGS\n",
    "# Fresh: Total Transaction <= 10 \n",
    "# Good:  Daily Transaction <= 5 (Inactive wallets also 'Good')\n",
    "# Aight: Daily Transaction 5 < x <= 10\n",
    "# Jett:   Daily Transaction > 10\n",
    "\n",
    "wallets = df2[\"address\"]\n",
    "walletLabel = []\n",
    "goodWalletsToAnalyzeLater = []\n",
    "\n",
    "for wallet in wallets:\n",
    "    url=f\"https://api.etherscan.io/api?module=account&action=tokentx&address={wallet}&page=1&offset=100&startblock=0&endblock=99999999&sort=desc&apikey=7YRRHUFSDSM5BXCIM8FY3NPJ192WYKRC1G\"\n",
    "\n",
    "    resp=requests.get(url)\n",
    "    resp=resp.json()\n",
    "    resp=resp['result']\n",
    "\n",
    "    if len(resp) < 10: \n",
    "        walletLabel.append(\"Fresh\")\n",
    "        continue\n",
    "\n",
    "    yesterdayTime = int(resp[0]['timeStamp']) - 86400\n",
    "    walletTransfers = []\n",
    "    for transfer in resp:\n",
    "        if int(transfer['timeStamp']) >= yesterdayTime: walletTransfers.append(transfer['timeStamp'])\n",
    "\n",
    "    walletTransfers = [*set(walletTransfers)]\n",
    "    dailyTransfer = len(walletTransfers)\n",
    "\n",
    "    if dailyTransfer <= 5: \n",
    "        walletLabel.append(\"Good\")\n",
    "        goodWalletsToAnalyzeLater.append(wallet)\n",
    "    elif dailyTransfer > 5 and dailyTransfer <= 10: walletLabel.append(\"Aight\")\n",
    "    if dailyTransfer > 10: walletLabel.append(\"Jett\")\n",
    "\n",
    "#with open(\"testDEJITARUPARUGoodWallets.csv\", \"w\") as f:\n",
    "#    for wallet in goodWalletsToAnalyzeLater:\n",
    "#        f.write(wallet + \"\\n\")\n",
    "\n",
    "df2['Label'] = walletLabel"
   ]
  },
  {
   "cell_type": "code",
   "execution_count": 8,
   "metadata": {},
   "outputs": [],
   "source": [
    "df2.to_csv(\"result.csv\")"
   ]
  }
 ],
 "metadata": {
  "kernelspec": {
   "display_name": "Python 3",
   "language": "python",
   "name": "python3"
  },
  "language_info": {
   "codemirror_mode": {
    "name": "ipython",
    "version": 3
   },
   "file_extension": ".py",
   "mimetype": "text/x-python",
   "name": "python",
   "nbconvert_exporter": "python",
   "pygments_lexer": "ipython3",
   "version": "3.10.7"
  },
  "orig_nbformat": 4,
  "vscode": {
   "interpreter": {
    "hash": "24a65622588fb1db624ed535020f5a37a759da9d209a329d177031dbba643a35"
   }
  }
 },
 "nbformat": 4,
 "nbformat_minor": 2
}

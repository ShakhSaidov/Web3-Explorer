{
 "cells": [
  {
   "cell_type": "code",
   "execution_count": null,
   "metadata": {},
   "outputs": [],
   "source": [
    "\"\"\"\n",
    "1. Paste token contract\n",
    "2. Look at top 50 holders\n",
    "    - holders balance\n",
    "        -> 100k+\n",
    "        -> 50 - 100k\n",
    "        -> 10 - 50k\n",
    "        -> 1 - 10k\n",
    "        -> 0 - 1k \n",
    "    \n",
    "    - holders transaction numbers\n",
    "        fresh wallet - less than 10 transactions\n",
    "        good wallets - in between\n",
    "        jeet - more than ____ transactions\n",
    "        \n",
    "\n",
    "\"\"\""
   ]
  }
 ],
 "metadata": {
  "kernelspec": {
   "display_name": "Python 3",
   "language": "python",
   "name": "python3"
  },
  "language_info": {
   "name": "python",
   "version": "3.10.7 (tags/v3.10.7:6cc6b13, Sep  5 2022, 14:08:36) [MSC v.1933 64 bit (AMD64)]"
  },
  "orig_nbformat": 4,
  "vscode": {
   "interpreter": {
    "hash": "24a65622588fb1db624ed535020f5a37a759da9d209a329d177031dbba643a35"
   }
  }
 },
 "nbformat": 4,
 "nbformat_minor": 2
}

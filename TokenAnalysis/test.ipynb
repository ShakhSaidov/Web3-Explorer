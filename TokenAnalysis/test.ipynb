{
 "cells": [
  {
   "cell_type": "code",
   "execution_count": null,
   "metadata": {},
   "outputs": [],
   "source": [
    "import requests\n",
    "\n",
    "tokenAddress = \"0x8eecaad83a1ea77bd88a818d4628fafc4cad7969\"\n",
    "url = f\"https://api.ethplorer.io/getTopTokenHolders/{tokenAddress}?apiKey=freekey&limit=100\"\n",
    "holders = requests.get(url)\n",
    "holders = holders.json()\n",
    "holders = holders['holders']\n",
    "print(holders)"
   ]
  },
  {
   "cell_type": "code",
   "execution_count": 5,
   "metadata": {},
   "outputs": [
    {
     "name": "stdout",
     "output_type": "stream",
     "text": [
      "1674672203\n"
     ]
    }
   ],
   "source": [
    "import requests\n",
    "import calendar\n",
    "import datetime\n",
    " \n",
    "date=datetime.datetime.utcnow()\n",
    "currentTime=calendar.timegm(date.utctimetuple())\n",
    "yesterdayTime=currentTime - 86400\n",
    "\n",
    "totalTransfers = {}\n",
    "\n",
    "wallets = [\"0x8eecaad83a1ea77bd88a818d4628fafc4cad7969\"]\n",
    "\n",
    "for wallet in wallets:\n",
    "    url=f\"https://api.etherscan.io/api?module=account&action=tokentx&address={wallet}&page=1&offset=100&startblock=0&endblock=99999999&sort=desc&apikey=7YRRHUFSDSM5BXCIM8FY3NPJ192WYKRC1G\"\n",
    "\n",
    "    resp=requests.get(url)\n",
    "    resp=resp.json()\n",
    "    resp=resp['result']\n",
    "\n",
    "    latestTransfer = resp[0]\n",
    "    print(latestTransfer['timeStamp'])\n",
    "\n",
    "    walletTransfers = []\n",
    "    for transfer in resp:\n",
    "        if int(transfer['timeStamp']) >= yesterdayTime: walletTransfers.append(transfer['timeStamp'])\n",
    "\n",
    "    walletTransfers = [*set(walletTransfers)]\n",
    "    totalTransfers[wallet] = len(walletTransfers)\n"
   ]
  },
  {
   "cell_type": "code",
   "execution_count": 9,
   "metadata": {},
   "outputs": [
    {
     "name": "stdout",
     "output_type": "stream",
     "text": [
      "Total Transactions are: 1\n"
     ]
    }
   ],
   "source": [
    "wallet = \"0x4cae88379b6bff0319677e796f6502338330dc7e\"\n",
    "url = f\"https://api.etherscan.io/api?module=account&action=tokentx&address={wallet}&page=1&offset=100&startblock=0&endblock=99999999&sort=desc&apikey=7YRRHUFSDSM5BXCIM8FY3NPJ192WYKRC1G\"\n",
    "\n",
    "resp = requests.get(url)\n",
    "resp = resp.json()\n",
    "resp = resp['result']\n",
    "print(f\"Total Transactions are: {len(resp)}\")\n"
   ]
  },
  {
   "cell_type": "code",
   "execution_count": null,
   "metadata": {},
   "outputs": [],
   "source": [
    "address = \"0x399118312715c0a8d887a500e20d99b4b9819678\"\n",
    "url = f\"https://api.ethplorer.io/getAddressInfo/{address}?apiKey=EK-jCkqf-qQHnUdG-uyNuL\"\n",
    "\n",
    "response = requests.get(url)\n",
    "response = response.json()\n",
    "response\n",
    "ethBalance = response['ETH']['balance'] * response['ETH']['price']['rate']\n",
    "tokenBalance = 0\n",
    "for token in response['tokens']:\n",
    "    tokenPrice = token['tokenInfo']['price']['rate']\n",
    "    tokenAmount = int(token['rawBalance']) / weiDivisible\n",
    "    tokenBalance += tokenPrice * tokenAmount\n",
    "\n",
    "print(ethBalance)\n",
    "print(tokenBalance)"
   ]
  },
  {
   "cell_type": "code",
   "execution_count": 6,
   "metadata": {},
   "outputs": [
    {
     "name": "stderr",
     "output_type": "stream",
     "text": [
      "C:\\Users\\wwwbl\\AppData\\Local\\Temp\\ipykernel_1948\\3114575843.py:12: DeprecationWarning: use options instead of chrome_options\n",
      "  driver = webdriver.Chrome(chrome_options=chrome_options)\n"
     ]
    },
    {
     "data": {
      "text/plain": [
       "'12,769.63'"
      ]
     },
     "execution_count": 6,
     "metadata": {},
     "output_type": "execute_result"
    }
   ],
   "source": [
    "from selenium import webdriver\n",
    "from selenium.webdriver.common.by import By\n",
    "from selenium.webdriver.chrome.options import Options\n",
    "\n",
    "address = \"0xb71b13b85d2c094b0fdec64ab891b5bf5f110a8e\"\n",
    "\n",
    "chrome_options = Options()\n",
    "chrome_options.add_argument('headless')\n",
    "user_agent = 'Mozilla/5.0 (X11; Linux x86_64) AppleWebKit/537.36 (KHTML, like Gecko) Chrome/60.0.3112.50 Safari/537.36'\n",
    "chrome_options.add_argument(f'user-agent={user_agent}')\n",
    "\n",
    "driver = webdriver.Chrome(chrome_options=chrome_options)\n",
    "\n",
    "driver.get(f\"https://etherscan.io/address/{address}\")\n",
    "element = driver.find_element(By.ID, \"availableBalanceDropdown\")\n",
    "text = element.text\n",
    "driver.close()\n",
    "\n",
    "tokenBalance = text[2:].split()\n",
    "tokenBalance = tokenBalance[0]\n",
    "tokenBalance\n"
   ]
  }
 ],
 "metadata": {
  "kernelspec": {
   "display_name": "Python 3",
   "language": "python",
   "name": "python3"
  },
  "language_info": {
   "codemirror_mode": {
    "name": "ipython",
    "version": 3
   },
   "file_extension": ".py",
   "mimetype": "text/x-python",
   "name": "python",
   "nbconvert_exporter": "python",
   "pygments_lexer": "ipython3",
   "version": "3.10.7"
  },
  "orig_nbformat": 4,
  "vscode": {
   "interpreter": {
    "hash": "24a65622588fb1db624ed535020f5a37a759da9d209a329d177031dbba643a35"
   }
  }
 },
 "nbformat": 4,
 "nbformat_minor": 2
}
